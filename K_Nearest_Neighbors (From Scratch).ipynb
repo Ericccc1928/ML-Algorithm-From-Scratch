{
 "cells": [
  {
   "cell_type": "markdown",
   "id": "23ea46f4",
   "metadata": {},
   "source": [
    "# Euclidean Distance"
   ]
  },
  {
   "cell_type": "markdown",
   "id": "0072c512",
   "metadata": {},
   "source": [
    "https://en.wikipedia.org/wiki/Euclidean_distance"
   ]
  },
  {
   "cell_type": "code",
   "execution_count": 1,
   "id": "bc428763",
   "metadata": {},
   "outputs": [],
   "source": [
    "from math import sqrt"
   ]
  },
  {
   "cell_type": "code",
   "execution_count": 2,
   "id": "aa195c6c",
   "metadata": {},
   "outputs": [
    {
     "name": "stdout",
     "output_type": "stream",
     "text": [
      "2.23606797749979\n"
     ]
    }
   ],
   "source": [
    "plot1 = [1,3]\n",
    "plot2 = [2,5]\n",
    "\n",
    "euclidean_distance = sqrt((plot1[0]-plot2[0])**2 + (plot1[1]-plot2[1])**2)\n",
    "print(euclidean_distance)"
   ]
  },
  {
   "cell_type": "code",
   "execution_count": 3,
   "id": "ce2c2218",
   "metadata": {},
   "outputs": [],
   "source": [
    "import numpy as np\n",
    "import matplotlib.pyplot as plt\n",
    "from matplotlib import style\n",
    "from collections import Counter\n",
    "style.use(\"fivethirtyeight\")"
   ]
  },
  {
   "cell_type": "code",
   "execution_count": 4,
   "id": "27a4f8b2",
   "metadata": {},
   "outputs": [
    {
     "data": {
      "image/png": "[encoded data removed]",
      "text/plain": [
       "<Figure size 432x288 with 1 Axes>"
      ]
     },
     "metadata": {},
     "output_type": "display_data"
    }
   ],
   "source": [
    "dataset = {\"k\":[[1,2],[2,3],[3,1]], \"r\": [[6,5],[7,7],[8,6]]}\n",
    "new_features = [5,7]\n",
    "\n",
    "for i in dataset:\n",
    "    for ii in dataset[i]:\n",
    "        plt.scatter(ii[0],ii[1], s = 100, color = i)\n",
    "plt.scatter(new_features[0], new_features[1])\n",
    "plt.show()"
   ]
  },
  {
   "cell_type": "markdown",
   "id": "c921c88e",
   "metadata": {},
   "source": [
    "# Code KNN from scratch"
   ]
  },
  {
   "cell_type": "code",
   "execution_count": 5,
   "id": "472d844a",
   "metadata": {},
   "outputs": [],
   "source": [
    "def k_nearest_neighbors(data, predict, k = 3):\n",
    "    if len(data) >= k:\n",
    "        warnings.warn(\"K is set to a value less than voting groups!\")\n",
    "    distance = []\n",
    "    for group in data:\n",
    "        for features in data[group]:\n",
    "            # euclidean_distance = np.sqrt(np.sum((np.array(features)- np.array(predict))**2))\n",
    "            euclidean_distance = np.linalg.norm(np.array(features) - np.array(predict))\n",
    "            distance.append([euclidean_distance, group])\n",
    "            \n",
    "    # Votes will eventually be in the form of [r, r, k]        \n",
    "    votes = [i[1] for i in sorted(distance)[:k]]\n",
    "    \n",
    "    # print(votes)\n",
    "    # The most frequent category is our result\n",
    "    # print(Counter(votes))\n",
    "    # print(Counter(votes).most_common(1))\n",
    "    vote_result = Counter(votes).most_common(1)[0][0]\n",
    "    \n",
    "    return vote_result"
   ]
  },
  {
   "cell_type": "code",
   "execution_count": 6,
   "id": "4efa2f4f",
   "metadata": {},
   "outputs": [
    {
     "name": "stdout",
     "output_type": "stream",
     "text": [
      "r\n"
     ]
    }
   ],
   "source": [
    "result = k_nearest_neighbors(dataset, new_features, k = 3)\n",
    "print(result)"
   ]
  },
  {
   "cell_type": "markdown",
   "id": "ee48393a",
   "metadata": {},
   "source": [
    "# Compare with sklearn"
   ]
  },
  {
   "cell_type": "code",
   "execution_count": 7,
   "id": "29b90f8f",
   "metadata": {},
   "outputs": [],
   "source": [
    "import random \n",
    "import pandas as pd"
   ]
  },
  {
   "cell_type": "code",
   "execution_count": 8,
   "id": "23a65ab7",
   "metadata": {},
   "outputs": [
    {
     "data": {
      "text/html": [
       "<div>\n",
       "<style scoped>\n",
       "    .dataframe tbody tr th:only-of-type {\n",
       "        vertical-align: middle;\n",
       "    }\n",
       "\n",
       "    .dataframe tbody tr th {\n",
       "        vertical-align: top;\n",
       "    }\n",
       "\n",
       "    .dataframe thead th {\n",
       "        text-align: right;\n",
       "    }\n",
       "</style>\n",
       "<table border=\"1\" class=\"dataframe\">\n",
       "  <thead>\n",
       "    <tr style=\"text-align: right;\">\n",
       "      <th></th>\n",
       "      <th>Clump_thickness</th>\n",
       "      <th>unif_cell_size</th>\n",
       "      <th>unif_cell_shape</th>\n",
       "      <th>marg_adhesion</th>\n",
       "      <th>single_epith_cell_size</th>\n",
       "      <th>bare_nuclei</th>\n",
       "      <th>bland_chrom</th>\n",
       "      <th>norm_nucleoli</th>\n",
       "      <th>mitoses</th>\n",
       "      <th>class</th>\n",
       "    </tr>\n",
       "  </thead>\n",
       "  <tbody>\n",
       "    <tr>\n",
       "      <th>0</th>\n",
       "      <td>5</td>\n",
       "      <td>4</td>\n",
       "      <td>4</td>\n",
       "      <td>5</td>\n",
       "      <td>7</td>\n",
       "      <td>10</td>\n",
       "      <td>3</td>\n",
       "      <td>2</td>\n",
       "      <td>1</td>\n",
       "      <td>2</td>\n",
       "    </tr>\n",
       "    <tr>\n",
       "      <th>1</th>\n",
       "      <td>3</td>\n",
       "      <td>1</td>\n",
       "      <td>1</td>\n",
       "      <td>1</td>\n",
       "      <td>2</td>\n",
       "      <td>2</td>\n",
       "      <td>3</td>\n",
       "      <td>1</td>\n",
       "      <td>1</td>\n",
       "      <td>2</td>\n",
       "    </tr>\n",
       "    <tr>\n",
       "      <th>2</th>\n",
       "      <td>6</td>\n",
       "      <td>8</td>\n",
       "      <td>8</td>\n",
       "      <td>1</td>\n",
       "      <td>3</td>\n",
       "      <td>4</td>\n",
       "      <td>3</td>\n",
       "      <td>7</td>\n",
       "      <td>1</td>\n",
       "      <td>2</td>\n",
       "    </tr>\n",
       "    <tr>\n",
       "      <th>3</th>\n",
       "      <td>4</td>\n",
       "      <td>1</td>\n",
       "      <td>1</td>\n",
       "      <td>3</td>\n",
       "      <td>2</td>\n",
       "      <td>1</td>\n",
       "      <td>3</td>\n",
       "      <td>1</td>\n",
       "      <td>1</td>\n",
       "      <td>2</td>\n",
       "    </tr>\n",
       "    <tr>\n",
       "      <th>4</th>\n",
       "      <td>8</td>\n",
       "      <td>10</td>\n",
       "      <td>10</td>\n",
       "      <td>8</td>\n",
       "      <td>7</td>\n",
       "      <td>10</td>\n",
       "      <td>9</td>\n",
       "      <td>7</td>\n",
       "      <td>1</td>\n",
       "      <td>4</td>\n",
       "    </tr>\n",
       "  </tbody>\n",
       "</table>\n",
       "</div>"
      ],
      "text/plain": [
       "   Clump_thickness  unif_cell_size  unif_cell_shape  marg_adhesion  \\\n",
       "0                5               4                4              5   \n",
       "1                3               1                1              1   \n",
       "2                6               8                8              1   \n",
       "3                4               1                1              3   \n",
       "4                8              10               10              8   \n",
       "\n",
       "   single_epith_cell_size bare_nuclei  bland_chrom  norm_nucleoli  mitoses  \\\n",
       "0                       7          10            3              2        1   \n",
       "1                       2           2            3              1        1   \n",
       "2                       3           4            3              7        1   \n",
       "3                       2           1            3              1        1   \n",
       "4                       7          10            9              7        1   \n",
       "\n",
       "   class  \n",
       "0      2  \n",
       "1      2  \n",
       "2      2  \n",
       "3      2  \n",
       "4      4  "
      ]
     },
     "execution_count": 8,
     "metadata": {},
     "output_type": "execute_result"
    }
   ],
   "source": [
    "# Load\n",
    "df = pd.read_csv(\"/Users/ericzhong/Desktop/Machine_Learning/sent_dex/breast_cancer/breast-cancer-wisconsin.data\")\n",
    "df.columns =['id', 'Clump_thickness', 'unif_cell_size', 'unif_cell_shape','marg_adhesion','single_epith_cell_size',\n",
    "            'bare_nuclei','bland_chrom','norm_nucleoli','mitoses','class']\n",
    "\n",
    "# Cleaning\n",
    "df.replace(\"?\", -99999, inplace = True)\n",
    "df.drop(columns = [\"id\"], inplace = True)\n",
    "\n",
    "df.head()"
   ]
  },
  {
   "cell_type": "code",
   "execution_count": 9,
   "id": "c6f57c2a",
   "metadata": {},
   "outputs": [],
   "source": [
    "full_data = df.astype(float).values.tolist()\n",
    "# print(full_data[:5])\n",
    "\n",
    "random.shuffle(full_data)\n",
    "# print(20*\"#\")\n",
    "# print(full_data[:5])"
   ]
  },
  {
   "cell_type": "code",
   "execution_count": 10,
   "id": "50de199d",
   "metadata": {},
   "outputs": [],
   "source": [
    "test_size = 0.2\n",
    "\n",
    "train_set = {2:[], 4:[]}\n",
    "test_set = {2:[], 4:[]}\n",
    "\n",
    "train_data = full_data[:-int(test_size * len(full_data))] # first 80 percent as training data\n",
    "test_data = full_data[-int(test_size * len(full_data)):] # last 20 percent as testing data"
   ]
  },
  {
   "cell_type": "code",
   "execution_count": 11,
   "id": "79fbe400",
   "metadata": {},
   "outputs": [],
   "source": [
    "# Populate our trainng data and testing data\n",
    "for i in train_data:\n",
    "    train_set[i[-1]].append(i[:-1]) # last column of train_data is class, and it is also the key of train_set\n",
    "\n",
    "for i in test_data:\n",
    "    test_set[i[-1]].append(i[:-1]) # last column of train_data is class, and it is also the key of train_set"
   ]
  },
  {
   "cell_type": "code",
   "execution_count": 12,
   "id": "cd14e469",
   "metadata": {},
   "outputs": [
    {
     "name": "stdout",
     "output_type": "stream",
     "text": [
      "Accuracy: 0.9712230215827338\n"
     ]
    }
   ],
   "source": [
    "correct = 0\n",
    "total = 0\n",
    "\n",
    "for group in test_set:\n",
    "    for data in test_set[group]:\n",
    "        vote = k_nearest_neighbors(train_set, data, k = 5)\n",
    "        if group == vote:\n",
    "            correct += 1\n",
    "        total += 1\n",
    "\n",
    "print(\"Accuracy:\", correct / total)"
   ]
  },
  {
   "cell_type": "markdown",
   "id": "80742549",
   "metadata": {},
   "source": [
    "# Accuracy and Confidence"
   ]
  },
  {
   "cell_type": "markdown",
   "id": "5989ab15",
   "metadata": {},
   "source": [
    "Accuracy = Correct / Total"
   ]
  },
  {
   "cell_type": "markdown",
   "id": "0b491d99",
   "metadata": {},
   "source": [
    "Confidence = Votes for Predicted Class / k"
   ]
  },
  {
   "cell_type": "code",
   "execution_count": 13,
   "id": "116ea0a3",
   "metadata": {},
   "outputs": [],
   "source": [
    "# For example, A:60% vs B:40%, A wins but not with a big lead "
   ]
  }
 ],
 "metadata": {
  "kernelspec": {
   "display_name": "Python 3 (ipykernel)",
   "language": "python",
   "name": "python3"
  },
  "language_info": {
   "codemirror_mode": {
    "name": "ipython",
    "version": 3
   },
   "file_extension": ".py",
   "mimetype": "text/x-python",
   "name": "python",
   "nbconvert_exporter": "python",
   "pygments_lexer": "ipython3",
   "version": "3.9.7"
  }
 },
 "nbformat": 4,
 "nbformat_minor": 5
}
